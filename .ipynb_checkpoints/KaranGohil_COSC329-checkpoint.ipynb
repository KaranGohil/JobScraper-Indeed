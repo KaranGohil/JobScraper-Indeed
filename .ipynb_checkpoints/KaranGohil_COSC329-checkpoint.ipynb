{
 "cells": [
  {
   "cell_type": "markdown",
   "metadata": {},
   "source": [
    "# Project Option #4\n",
    "\n",
    "## Scraping a job website and data analysis to find out sought after skills"
   ]
  },
  {
   "cell_type": "markdown",
   "metadata": {},
   "source": [
    "# Full Stack Developer vs Data Analyst\n",
    "\n",
    "## Location: USA"
   ]
  },
  {
   "cell_type": "code",
   "execution_count": 1,
   "metadata": {},
   "outputs": [],
   "source": [
    "import requests\n",
    "from bs4 import BeautifulSoup "
   ]
  },
  {
   "cell_type": "code",
   "execution_count": 12,
   "metadata": {},
   "outputs": [],
   "source": [
    "# extracting data from the web\n",
    "\n",
    "# Gets the list of jobs\n",
    "def extractPage(jobTitle, page):\n",
    "    headers = {\"User-Agent\": \"Mozilla/5.0 (Windows NT 10.0; Win64; x64) AppleWebKit/537.36 (KHTML, like Gecko) Chrome/96.0.4664.45 Safari/537.36\"}\n",
    "    # replaces the white spaces with \"+\" \n",
    "    job = jobTitle.replace(\" \", \"+\")\n",
    "    url = f\"https://www.indeed.com/jobs?q={job}&start={page*10}\"\n",
    "    result = requests.get(url, headers)\n",
    "    page = BeautifulSoup(result.content, \"html.parser\")\n",
    "    return page\n",
    "\n",
    "# Extracts the link from the page\n",
    "def extractLink(page):\n",
    "    # Find the div tag by the given id\n",
    "    tableTag = page.find('table', id = 'resultsBody')\n",
    "    divTag = tableTag.find('div', id = 'mosaic-provider-jobcards')\n",
    "    for link in divTag.find_all('a', class_ = 'tapItem'):\n",
    "        cleanLink = link.get('href')\n",
    "        return \"https://indeed.com\"+ cleanLink\n"
   ]
  },
  {
   "cell_type": "markdown",
   "metadata": {},
   "source": [
    "# Full Stack Developer Links"
   ]
  },
  {
   "cell_type": "code",
   "execution_count": 13,
   "metadata": {},
   "outputs": [
    {
     "name": "stdout",
     "output_type": "stream",
     "text": [
      "https://indeed.com/rc/clk?jk=df2e1976fa7d635f&fccid=55e246035f02c566&vjs=3\n",
      "https://indeed.com/pagead/clk?mo=r&ad=-6NYlbfkN0CjTCF8mpulW7HjIO9j3UAv4IRdc88w_WjfVATJfQDIJ4mMO_v1K4JruMB6cZ33Z-n0xpeXTI1UXZAsRMLeiZPR9QidHhE76Ti9bzk-CjtArpyf5ebe5GF7bv_1rxBUAcKbSyRIUWPo3C12an_JgSPscAxOlWjxm_Bws4hSKuGPJI1HGdjPqWVDDwriF2LgURppT3U27bdpMLcr99Ul2ILxibNk8w1M2_ExCCiw3s7xdrf0RfGSMV93Hz9GYRuRx5Jppoc-ZuR0OJ4RLizDFUpyWnYr8WrGc6iZSPmEFLmEscLLpcCKns5A7-yRqX1NsTNrPa7xr1YncF2hU7Mu3FNd0AfBDVuGuBT_IHov9CVUZHrb7bmtqtYV1EnIdHZhG8jjvxscbKlkSgGtSU6SWoChdLEdL8n7le7C6Zkx6B3o158J8hZdnwfxc_g83aU1J2owLI7_RSA9dl02xl1uWnoRiUedf-4aCdFLqBUGfemkvmL6YPu2IdCP&p=1&fvj=1&vjs=3\n",
      "https://indeed.com/pagead/clk?mo=r&ad=-6NYlbfkN0BrPeHrFMQVOEU3cJhS7IRk6FDr0fwccUOvJL73GNlbZ7UaCcoY6TEYX-XhAPHihi4FKc0k9BGK3VzVNVe8pnwV34RaOBB5ogH1xV088EqLCavOm1AOV-iyF3bhdGj9Yyhl-4Vn3c5lBMG6CyADejUUzDPQmFsfCn4oGqARpzgMwrPpViumbx39XN_FWfvIPAWhr5ivBa91S903oeH4GJLEQxuKn-jMUETz6QeLFpTAYksgXxZD4BgHGfRyU2pCPTOQQhovbhzyIyiIkRbrneHqwHnksq-igpqyDnJYta7FXdenHMSXzKguQYTn0ARbBosgfcmkF3bWswAkGqF5Yld4kMn96A3Hl5TAKE1pagn17WUKxhVyXZYugTP1iccsln5Sth4GikjvBQHgTy_Bwy9Jy0NLuSq56K1q2oLhV3igbu93H0BOnRCTtsjaN8ShnpxC9hcrZiF9-W2zgKVqcxGyKef7Ff130EvPYIpJuwKovF0TZHxFvBatIJElgEdEMDE=&p=2&fvj=1&vjs=3\n",
      "https://indeed.com/pagead/clk?mo=r&ad=-6NYlbfkN0DXUGv4Gj84VmFHA5NhWWxImE-XNyyS993EOenNeUVcjSu3YQxXH6frAe3H6TvQUlARcQz6keui9gIHrwzFNEHl7UYMvAaKRXk5Jbgg-cQ-h-oEPSAVI-BoIsAel25X7FTEC2KLKwnysoTWNTn327fOavnHvNcscdbPzq789BITVmlWRaEO9q4elU-0-CdkKwZSjfPhiRBVDhVKRaucNZdYUJDlEm_FOa4Grw5xA_8NsfZVpixJP1g5zNo9MSmtqmzcqnCGVxIm_Iskdix9QdrK4P7jU-oO-eRclsJ5h2WFTPWCwYjl_vmb1GqhgkgxzrWWK7JsHwYNBvAMl7ay8I0OQqK9O3zlSZ2S297zz3njEwE3r0ZDfy9FFv-CBEscK93_oy5RG-KY-WFjMrClJkfxU1H1n3yF-rN6nHDpB2YywskzVYJS4ElZGbZwzesO4E5sbntsrTVbeVTdGeYVdDlMf2_0KwpFxOsXoWyPuWG2Xw==&p=3&fvj=1&vjs=3\n",
      "https://indeed.com/pagead/clk?mo=r&ad=-6NYlbfkN0BbIbu35rN4ToQZZxETN3tZlg0cK7iFEHC0AqmvhRxc6_RiK6STRcYZmOwwIBP1oQEEf5DlVE-E-NI6rWw1h0V1Vp3nNRSCGcq1dIFBiiu9bEldLrzjz_fdwbdcgjl-bSXWlLIQozArOWEscTEZEfnjWlgHt1xzY5f6QQ0agYICuq3ScSutmB7XYhtmVWmkTM17R1n5V6x7MN25aYnCuLBn0H3PKouAYTAE5yBssrILKuzYgpxGMTZrR6udUVf0S1vr5M-37i80dgsJY4dSqt1sBEmuG3o_lM_1J3oYSW3_dd0qLr9u8fQUQTg6lxItgv0b0UWi1AdB_wWvPEFJN-75ihmyospLzWa9FFg_a8z6m3wXl_6EMhsjGwfOCxEuBCyihepeiwNvZIL4MeyjBobvxebnQJUJzrMmVaSyejT-6KvbZUY9VsJbyNEgTwENynGiJ2cYFcKSdRTvwInj2y5k95oTRHedC1XRbzCmdnBH4hlxooyDGlUL9H2kfNUdx6f-TzxFxAhy5gv0JWmxxfMmx1HDNTJgUTIQY73T_DIIWDPUrOJtnN70FSBWknadbKGs_626vba_Q4UiKNwpjw7e4faVqMCJkigJp8GMEwEBlxrxiVXy5P4YOKeF0GsQlNLmqIWkUQlXwefHNFy1xCBmtYm09wZ-lzxU4lvtQyRnpL39Eo9xXxe4dR5ojNybY35NXdPt_zVf5CYgfIT6WGihTMSWzVjkLA_mxK_pQ6FXmriHDtnrDjKm6PcgCOiRDdDXCRoM_aqu2yjznw9Q6ep94W1iM4qsBY5DbzHYV6gNJEw4cMTzKECkYeTRXiMl3x3RCZAadogVzIWMgzYaPB2zhMIGdNceoxSGZqnQhV9jCh8h8j7tX236Tq2hcF6XBHgTW-4FkMa51ScElIOW0eORqAKbGcohVUjzUnyGGJEmyC4cBGzkeRsiFx3cCD5TDZDue-SvSMOtRLojJY1FgupSwILC4g7m8BddZnXpuMvIApet6cfvFHSQ92AyiwZCn_s=&p=4&fvj=0&vjs=3\n",
      "https://indeed.com/company/IIFYM/jobs/Full-Stack-Developer-93408e4c3e2fcf8a?fccid=0120329655adfb64&vjs=3\n",
      "https://indeed.com/company/Outliant/jobs/Vuej-Nodej-Full-Stack-Developer-35e8305e3e7cb2c1?fccid=e75161db19947d0c&vjs=3\n",
      "https://indeed.com/company/Kani-Solutions/jobs/Full-Stack-Developer-ee00b64d201cc0be?fccid=6d19b3e54be9bb3a&vjs=3\n",
      "https://indeed.com/rc/clk?jk=bc5687d9b6b4cfbf&fccid=910a35c225bcea4f&vjs=3\n",
      "https://indeed.com/company/Turing.com/jobs/Full-Stack-Web-Developer-7950d75497f39b88?fccid=a2e0cbec0b626661&vjs=3\n",
      "https://indeed.com/rc/clk?jk=78d399e43ab1eac5&fccid=fc68da685e8aa986&vjs=3\n",
      "https://indeed.com/company/Underdog.io/jobs/Full-Stack-Developer-2df0564df7756395?fccid=50ea53fe8d1ef3d9&vjs=3\n",
      "https://indeed.com/company/GigLabs-Inc/jobs/Senior-Full-Stack-Developer-b5ffa1ded633a1a6?fccid=d8ad01a36ad03e9e&vjs=3\n",
      "https://indeed.com/company/Lively,-Inc./jobs/Full-Stack-Engineer-2aaf267e7e77282c?fccid=55493a83022192a2&vjs=3\n",
      "https://indeed.com/rc/clk?jk=361d85e39635b4c9&fccid=0b3490f8005058ec&vjs=3\n"
     ]
    }
   ],
   "source": [
    "page = extractPage(\"Full Stack Developer\", 0)\n",
    "extractLink(page)"
   ]
  },
  {
   "cell_type": "markdown",
   "metadata": {},
   "source": [
    "# Data Analyst Links"
   ]
  },
  {
   "cell_type": "code",
   "execution_count": 72,
   "metadata": {},
   "outputs": [
    {
     "name": "stdout",
     "output_type": "stream",
     "text": [
      "https://indeed.com/company/PCS-Global-Tech/jobs/Junior-Data-Analyst-fa7cbed454c055ab?fccid=599eb71dbad883ad&vjs=3\n",
      "https://indeed.com/company/ChannelBound,-LLC/jobs/Excel-Data-Analyst-fe29a949b81c8735?fccid=cfd197b281d0dfe9&vjs=3\n",
      "https://indeed.com/company/Wyvern-Security-LLC./jobs/Data-Analyst-10a05f99bf48e49f?fccid=068e5a0b97f46236&vjs=3\n",
      "https://indeed.com/company/HealthMark-Group/jobs/Data-Analyst-12f7e4a059957877?fccid=54fc306909589f2a&vjs=3\n",
      "https://indeed.com/company/Net2Aspire/jobs/Junior-Data-Analyst-235491186dad9bec?fccid=2f136957a295768c&vjs=3\n",
      "https://indeed.com/company/Abound/jobs/Data-Analyst-1f32c42aa24ecc5b?fccid=2b557fc52da64670&vjs=3\n",
      "https://indeed.com/rc/clk?jk=41f272f851a922e4&fccid=5507a64404691526&vjs=3\n",
      "https://indeed.com/company/JACKSON-PARK-HOSPITAL-AND-MEDICAL-CENTER/jobs/Data-Analyst-b633b77c88e3682b?fccid=87247472a0d16e31&vjs=3\n",
      "https://indeed.com/company/DataPattern/jobs/Junior-SQL-Analyst-Data-Analyst-ace385f894e397b6?fccid=37a615ec01506c9f&vjs=3\n",
      "https://indeed.com/company/Veterans-Advantage/jobs/Data-Analyst-8a77c2b06757a219?fccid=190a1bca4e87e8a9&vjs=3\n",
      "https://indeed.com/company/CyberMinds,-Inc/jobs/Data-Analyst-beebb602d2dcdd08?fccid=4abdb7be5da1f8f8&vjs=3\n",
      "https://indeed.com/rc/clk?jk=1c0897f847cfade6&fccid=2f9af8183fc08763&vjs=3\n",
      "https://indeed.com/rc/clk?jk=ab938eeba54162b4&fccid=2ec2bebc6c0b982f&vjs=3\n",
      "https://indeed.com/company/Pink-Noise-Projects/jobs/Data-Analyst-6ff43cdf84a83cc9?fccid=8bdeaa7c5880b4f6&vjs=3\n",
      "https://indeed.com/rc/clk?jk=1a735844f0292563&fccid=db130263a2af3230&vjs=3\n"
     ]
    }
   ],
   "source": [
    "page = extractPage(\"Data Analyst\", 0)\n",
    "extractLink(page)"
   ]
  },
  {
   "cell_type": "markdown",
   "metadata": {},
   "source": [
    "# NLP library functions\n",
    "\n",
    "- NLTK\n",
    "    - [PorterStemmer](https://www.datacamp.com/community/tutorials/stemming-lemmatization-python)\n",
    "    - [Stop word removal](https://www.analyticsvidhya.com/blog/2019/08/how-to-remove-stopwords-text-normalization-nltk-spacy-gensim-python/) (from nltk.corpus import stopwords)\n",
    "    - [Tokenizer](https://www.nltk.org/api/nltk.tokenize.html)\n",
    "- Scikit Learn\n",
    "    - [TFIDF algorithm](https://scikit-learn.org/stable/modules/generated/sklearn.feature_extraction.text.TfidfVectorizer.html#)\n",
    "\n",
    "\n",
    "## Calculate Bhattacharyya Coefficient\n",
    "\n",
    "- Using the python library called [\"dictances\"](https://github.com/LucaCappelletti94/dictances) "
   ]
  }
 ],
 "metadata": {
  "kernelspec": {
   "display_name": "Python 3",
   "language": "python",
   "name": "python3"
  },
  "language_info": {
   "codemirror_mode": {
    "name": "ipython",
    "version": 3
   },
   "file_extension": ".py",
   "mimetype": "text/x-python",
   "name": "python",
   "nbconvert_exporter": "python",
   "pygments_lexer": "ipython3",
   "version": "3.8.3"
  }
 },
 "nbformat": 4,
 "nbformat_minor": 4
}
