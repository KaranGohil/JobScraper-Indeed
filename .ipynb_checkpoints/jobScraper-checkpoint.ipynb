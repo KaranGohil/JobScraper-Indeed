{
 "cells": [
  {
   "cell_type": "code",
   "execution_count": 3,
   "metadata": {},
   "outputs": [],
   "source": [
    "import sys\n",
    "sys.path.append('./scripts')\n",
    "import scraper as af"
   ]
  },
  {
   "cell_type": "code",
   "execution_count": 4,
   "metadata": {},
   "outputs": [],
   "source": [
    "# Scraper to run\n",
    "def runScraper(jobName, fileName, startPageNo = 0, endPageNo = 10):\n",
    "    for n in range(startPageNo, endPageNo):\n",
    "        # Get the page where all the href link are available\n",
    "        page = af.extractJobListPage(jobName, n)\n",
    "        # Get all the links and put into an List\n",
    "        jList = af.extractLink(page)\n",
    "        # extract the description\n",
    "        af.extractRequirement(jList, fileName)\n",
    "        print(n, end=' ')"
   ]
  },
  {
   "cell_type": "markdown",
   "metadata": {},
   "source": [
    "Use the function \"runScraper\" to make the code run. \n",
    "\n",
    "For example,\n",
    "\n",
    "If I want to get details for the job - PHP Developer and save the data to the file \"PHP.csv\". By default, It will get first 10 pages.\n",
    "\n",
    "runScraper(\"PHP Developer\", \"PHP\", {insert start page}, {insert end page})\n",
    "\n",
    "1. runScraper(\"PHP Developer\", \"PHP\")\n",
    "    - This is will get data for PHP Developer from indeed (for first 10 pages)\n",
    "2. runScraper(\"PHP Developer\", \"PHP\", 0, 20)\n",
    "    - This is will get data for PHP Developer from indeed (for first 20 pages)\n"
   ]
  },
  {
   "cell_type": "code",
   "execution_count": null,
   "metadata": {},
   "outputs": [],
   "source": [
    "runScraper(\"PHP Developer\", \"PHP\")"
   ]
  }
 ],
 "metadata": {
  "interpreter": {
   "hash": "cf560bd4bb68816892ab446bbb7805f85e5a17b1085c18d713afa37d2cb88996"
  },
  "kernelspec": {
   "display_name": "Python 3",
   "language": "python",
   "name": "python3"
  },
  "language_info": {
   "codemirror_mode": {
    "name": "ipython",
    "version": 3
   },
   "file_extension": ".py",
   "mimetype": "text/x-python",
   "name": "python",
   "nbconvert_exporter": "python",
   "pygments_lexer": "ipython3",
   "version": "3.8.3"
  }
 },
 "nbformat": 4,
 "nbformat_minor": 4
}
