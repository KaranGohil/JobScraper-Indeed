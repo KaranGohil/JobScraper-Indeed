{
 "cells": [
  {
   "cell_type": "code",
   "execution_count": 2,
   "metadata": {},
   "outputs": [],
   "source": [
    "#from allFunction import *\n",
    "import sys\n",
    "sys.path.append('./scripts')\n",
    "import allFunction as af"
   ]
  },
  {
   "cell_type": "code",
   "execution_count": 3,
   "metadata": {},
   "outputs": [
    {
     "name": "stdout",
     "output_type": "stream",
     "text": [
      "85 86 87 88 89 90 91 92 93 94 95 96 97 98 99 100 101 102 103 104 105 106 107 108 109 110 "
     ]
    }
   ],
   "source": [
    "for n in range(111,1000):\n",
    "    # Get the page where all the href link are available\n",
    "    page = af.extractJobListPage(\"Data Scientist\", n)\n",
    "    # Get all the links and put into an List\n",
    "    jList = af.extractLink(page)\n",
    "    # extract the description\n",
    "    af.extractRequirement(jList, 'Data Scientist.csv')\n",
    "    print(n, end=' ')"
   ]
  },
  {
   "cell_type": "code",
   "execution_count": null,
   "metadata": {},
   "outputs": [],
   "source": []
  }
 ],
 "metadata": {
  "interpreter": {
   "hash": "cf560bd4bb68816892ab446bbb7805f85e5a17b1085c18d713afa37d2cb88996"
  },
  "kernelspec": {
   "display_name": "Python 3.8.3 64-bit ('base': conda)",
   "language": "python",
   "name": "python3"
  },
  "language_info": {
   "codemirror_mode": {
    "name": "ipython",
    "version": 3
   },
   "file_extension": ".py",
   "mimetype": "text/x-python",
   "name": "python",
   "nbconvert_exporter": "python",
   "pygments_lexer": "ipython3",
   "version": "3.8.3"
  },
  "orig_nbformat": 4
 },
 "nbformat": 4,
 "nbformat_minor": 2
}
